{
 "cells": [
  {
   "cell_type": "code",
   "execution_count": null,
   "metadata": {},
   "outputs": [],
   "source": [
    "*clojure-version*"
   ]
  },
  {
   "cell_type": "code",
   "execution_count": null,
   "metadata": {},
   "outputs": [],
   "source": [
    "(require '(incanter core stats charts io))\n",
    "(require '[clojure.repl :refer :all])"
   ]
  },
  {
   "cell_type": "code",
   "execution_count": null,
   "metadata": {},
   "outputs": [],
   "source": [
    "(require '[metaprob.state :as state])\n",
    "(require '[metaprob.trace :as trace])\n",
    "(require '[metaprob.sequence :as sequence])\n",
    "(require '[metaprob.builtin-impl :as impl])\n",
    "\n",
    "(require '[metaprob.syntax :refer :all])\n",
    "(require '[metaprob.builtin :refer :all])\n",
    "(require '[metaprob.prelude :refer :all])\n",
    "(require '[metaprob.distributions :refer :all])\n",
    "(require '[metaprob.interpreters :refer :all])\n",
    "(require '[metaprob.inference :refer :all])\n",
    "\n",
    "(require '[metaprob.infer :as infer])\n",
    "(require '[metaprob.compositional :as comp])\n",
    "(require '[metaprob.examples.gaussian :refer :all])"
   ]
  },
  {
   "cell_type": "code",
   "execution_count": null,
   "metadata": {},
   "outputs": [],
   "source": [
    "(.createBufferedImage (incanter.charts/histogram (take 10000 (repeatedly (gen [] (poisson 5))))) 300 300)"
   ]
  },
  {
   "cell_type": "code",
   "execution_count": null,
   "metadata": {},
   "outputs": [],
   "source": [
    "(.createBufferedImage\n",
    "    (incanter.charts/function-plot\n",
    "        (gen [y]\n",
    "            (exp (get (infer :procedure poisson\n",
    "                        :inputs [5]\n",
    "                        :target-trace (trace :value y))\n",
    "                     2))\n",
    "            )\n",
    "        0 20)\n",
    "    300 300)"
   ]
  },
  {
   "cell_type": "code",
   "execution_count": null,
   "metadata": {},
   "outputs": [],
   "source": []
  }
 ],
 "metadata": {
  "anaconda-cloud": {},
  "kernelspec": {
   "display_name": "Lein-Clojure",
   "language": "clojure",
   "name": "lein-clojure"
  },
  "language_info": {
   "file_extension": ".clj",
   "mimetype": "text/x-clojure",
   "name": "clojure",
   "version": "1.9.0"
  }
 },
 "nbformat": 4,
 "nbformat_minor": 1
}
